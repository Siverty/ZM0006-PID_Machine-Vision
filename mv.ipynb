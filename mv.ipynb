{
 "cells": [
  {
   "cell_type": "markdown",
   "metadata": {},
   "source": [
    "# Imports"
   ]
  },
  {
   "cell_type": "code",
   "execution_count": 1,
   "metadata": {},
   "outputs": [
    {
     "name": "stderr",
     "output_type": "stream",
     "text": [
      "Ultralytics YOLOv8.0.195  Python-3.11.5 torch-2.1.0+cpu CPU (AMD Ryzen 5 3600X 6-Core Processor)\n",
      "Setup complete  (12 CPUs, 64.0 GB RAM, 23.6/930.9 GB disk)\n"
     ]
    }
   ],
   "source": [
    "# Importing the ultralytics library and doing system checks to see how many cpu-cores and ram is available\n",
    "import ultralytics\n",
    "ultralytics.checks()\n",
    "# !!! IMPORTANT WHEN THIS IS RUN IT WILL OCCUPY RAM MEMORY UNTILL THE IDE IS EXITED !!!"
   ]
  },
  {
   "cell_type": "code",
   "execution_count": 2,
   "metadata": {},
   "outputs": [],
   "source": [
    "# Defining the model\n",
    "yoloV = \"yolov8x.pt\"\n"
   ]
  },
  {
   "cell_type": "code",
   "execution_count": 3,
   "metadata": {},
   "outputs": [],
   "source": [
    "# Defining the .yaml file that contains the data configuration\n",
    "data_config = \"data.yaml\"\n"
   ]
  },
  {
   "cell_type": "code",
   "execution_count": 4,
   "metadata": {},
   "outputs": [
    {
     "name": "stdout",
     "output_type": "stream",
     "text": [
      "^C\n"
     ]
    }
   ],
   "source": [
    "# Training the model\n",
    "# model.train(data = data_config, epochs = 10, batch = 16, verbose=True, show=True)  --  outdated code\n",
    "\n",
    "!yolo task=detect mode=train model={yoloV} data=data.yaml imgsz=700 epochs=100 plots=True --verbose\n"
   ]
  },
  {
   "cell_type": "markdown",
   "metadata": {},
   "source": [
    "This model is for GPU training, only enable if you have a NVidia GPU"
   ]
  },
  {
   "cell_type": "code",
   "execution_count": null,
   "metadata": {},
   "outputs": [],
   "source": [
    "# !yolo task=detect mode=train model={yoloV} data={data_config} imgsz=640 epochs=100 plots=True device=0\n"
   ]
  },
  {
   "cell_type": "code",
   "execution_count": 5,
   "metadata": {},
   "outputs": [
    {
     "name": "stderr",
     "output_type": "stream",
     "text": [
      "WARNING  imgsz=[1000] must be multiple of max stride 32, updating to [1024]\n",
      "Ultralytics YOLOv8.0.195  Python-3.11.5 torch-2.1.0+cpu CPU (AMD Ryzen 5 3600X 6-Core Processor)\n",
      "Model summary (fused): 268 layers, 68141865 parameters, 0 gradients\n",
      "\n",
      "\u001b[34m\u001b[1mval: \u001b[0mScanning D:\\School\\BD02\\BLok_1_2023\\ZM0006-PID_Machine-Vision\\datasets\\Labels_PID\\labels\\val.cache... 5 images, 0 backgrounds, 0 corrupt: 100%|██████████| 5/5 [00:00<?, ?it/s]\n",
      "\u001b[34m\u001b[1mval: \u001b[0mScanning D:\\School\\BD02\\BLok_1_2023\\ZM0006-PID_Machine-Vision\\datasets\\Labels_PID\\labels\\val.cache... 5 images, 0 backgrounds, 0 corrupt: 100%|██████████| 5/5 [00:00<?, ?it/s]\n",
      "\n",
      "                 Class     Images  Instances      Box(P          R      mAP50  mAP50-95):   0%|          | 0/1 [00:00<?, ?it/s]\n",
      "                 Class     Images  Instances      Box(P          R      mAP50  mAP50-95): 100%|██████████| 1/1 [00:16<00:00, 16.70s/it]\n",
      "                 Class     Images  Instances      Box(P          R      mAP50  mAP50-95): 100%|██████████| 1/1 [00:16<00:00, 16.71s/it]\n",
      "                   all          5        131      0.383      0.395        0.4      0.314\n",
      "                 Motor          5          2          0          0          0          0\n",
      "                  Tank          5          3      0.305          1      0.583      0.513\n",
      "      Centrifugal Pump          5          5          1      0.479        0.8      0.719\n",
      "        Heat Exchanger          5          4          0          0          0          0\n",
      "             Indicator          5         32      0.926      0.781      0.881      0.683\n",
      "                 Valve          5         81      0.435      0.296      0.342      0.211\n",
      "                 Gauge          5          1          0          0          0          0\n",
      "               Orifice          5          1      0.785          1      0.995      0.697\n",
      "             Rotameter          5          2          0          0          0          0\n",
      "Speed: 7.0ms preprocess, 3315.5ms inference, 0.0ms loss, 1.5ms postprocess per image\n",
      "Results saved to \u001b[1mruns\\detect\\val\u001b[0m\n",
      " Learn more at https://docs.ultralytics.com/modes/val\n"
     ]
    }
   ],
   "source": [
    "# Validation based on the currently best trained model\n",
    "!yolo task=detect mode=val model=runs/detect/train/weights/best.pt data={data_config} imgsz=1000 conf=0.7\n"
   ]
  },
  {
   "cell_type": "code",
   "execution_count": 6,
   "metadata": {},
   "outputs": [
    {
     "name": "stderr",
     "output_type": "stream",
     "text": [
      "Ultralytics YOLOv8.0.195  Python-3.11.5 torch-2.1.0+cpu CPU (AMD Ryzen 5 3600X 6-Core Processor)\n",
      "Model summary (fused): 268 layers, 68141865 parameters, 0 gradients\n",
      "\n",
      "WARNING  imgsz=[1000] must be multiple of max stride 32, updating to [1024]\n",
      "image 1/1 d:\\School\\BD02\\BLok_1_2023\\ZM0006-PID_Machine-Vision\\datasets\\Labels_PID\\images\\test\\an125_fig1.png: 672x1024 4 Tanks, 2 Indicators, 1 Pump, 1 Valve, 2550.6ms\n",
      "Speed: 14.8ms preprocess, 2550.6ms inference, 2.0ms postprocess per image at shape (1, 3, 672, 1024)\n",
      "Results saved to \u001b[1mruns\\detect\\predict\u001b[0m\n",
      " Learn more at https://docs.ultralytics.com/modes/predict\n"
     ]
    }
   ],
   "source": [
    "# Predicting the test set that is the easiest\n",
    "!yolo task=detect mode=predict model=runs/detect/train/weights/best.pt conf=0.60 source=datasets/Labels_PID/images/test/*.png imgsz=1000\n"
   ]
  },
  {
   "cell_type": "code",
   "execution_count": 7,
   "metadata": {},
   "outputs": [
    {
     "name": "stderr",
     "output_type": "stream",
     "text": [
      "Ultralytics YOLOv8.0.195  Python-3.11.5 torch-2.1.0+cpu CPU (AMD Ryzen 5 3600X 6-Core Processor)\n",
      "Model summary (fused): 268 layers, 68141865 parameters, 0 gradients\n",
      "\n",
      "WARNING  imgsz=[1000] must be multiple of max stride 32, updating to [1024]\n",
      "image 1/7 d:\\School\\BD02\\BLok_1_2023\\ZM0006-PID_Machine-Vision\\datasets\\Labels_PID\\images\\test\\test-but-train\\pid_equipment_legend-820x2123.png: 1024x416 15 Compressors, 9 Conveyors, 2 Motors, 1 Mixer, 1 Tank, 1 Centrifugal Pump, 8 Reactors, 5 Heat Exchangers, 1 Fan, 1 Pump, 1726.4ms\n",
      "image 2/7 d:\\School\\BD02\\BLok_1_2023\\ZM0006-PID_Machine-Vision\\datasets\\Labels_PID\\images\\test\\test-but-train\\pid_heat_exchanger_legend-789x988.png: 1024x832 6 Tanks, 1 Boiler, 3 Condensers, 9 Heat Exchangers, 2676.7ms\n",
      "image 3/7 d:\\School\\BD02\\BLok_1_2023\\ZM0006-PID_Machine-Vision\\datasets\\Labels_PID\\images\\test\\test-but-train\\pid_instruments_legend-796x1485.png: 1024x576 5 Tanks, 32 Indicators, 1906.3ms\n",
      "image 4/7 d:\\School\\BD02\\BLok_1_2023\\ZM0006-PID_Machine-Vision\\datasets\\Labels_PID\\images\\test\\test-but-train\\pid_piping_legend-720x1508.png: 1024x512 2 Tanks, 2 Condensers, 2 Turbines, 2 Pumps, 17 Valves, 6 Orifices, 1682.6ms\n",
      "image 5/7 d:\\School\\BD02\\BLok_1_2023\\ZM0006-PID_Machine-Vision\\datasets\\Labels_PID\\images\\test\\test-but-train\\pid_pump_legend-815x936.png: 1024x896 3 Tanks, 5 Centrifugal Pumps, 2 Fans, 1 Turbine, 8 Pumps, 2980.1ms\n",
      "image 6/7 d:\\School\\BD02\\BLok_1_2023\\ZM0006-PID_Machine-Vision\\datasets\\Labels_PID\\images\\test\\test-but-train\\pid_valve_legend-780x989.png: 1024x832 7 Tanks, 1 Turbine, 27 Valves, 1 Orifice, 2738.5ms\n",
      "image 7/7 d:\\School\\BD02\\BLok_1_2023\\ZM0006-PID_Machine-Vision\\datasets\\Labels_PID\\images\\test\\test-but-train\\pid_vessels_legend-745x1016.png: 1024x768 19 Tanks, 1 Reactor, 1 Valve, 2344.2ms\n",
      "Speed: 7.5ms preprocess, 2293.5ms inference, 1.4ms postprocess per image at shape (1, 3, 1024, 768)\n",
      "Results saved to \u001b[1mruns\\detect\\predict2\u001b[0m\n",
      " Learn more at https://docs.ultralytics.com/modes/predict\n"
     ]
    }
   ],
   "source": [
    "# Predicting the pictures from the training dataset\n",
    "!yolo task=detect mode=predict model=runs/detect/train/weights/best.pt conf=0.60 source=datasets/Labels_PID/images/test/test-but-train/*.png imgsz=1000\n"
   ]
  },
  {
   "cell_type": "code",
   "execution_count": 8,
   "metadata": {},
   "outputs": [
    {
     "name": "stderr",
     "output_type": "stream",
     "text": [
      "Ultralytics YOLOv8.0.195  Python-3.11.5 torch-2.1.0+cpu CPU (AMD Ryzen 5 3600X 6-Core Processor)\n",
      "Model summary (fused): 268 layers, 68141865 parameters, 0 gradients\n",
      "\n",
      "WARNING  imgsz=[1000] must be multiple of max stride 32, updating to [1024]\n",
      "image 1/3 d:\\School\\BD02\\BLok_1_2023\\ZM0006-PID_Machine-Vision\\Original_PID\\PID1.png: 1024x736 7 Compressors, 6 Tanks, 5 Centrifugal Pumps, 1 Heat Exchanger, 145 Indicators, 16 Valves, 2590.2ms\n",
      "image 2/3 d:\\School\\BD02\\BLok_1_2023\\ZM0006-PID_Machine-Vision\\Original_PID\\PID2.png: 1024x736 9 Compressors, 6 Tanks, 8 Centrifugal Pumps, 32 Indicators, 3 Pumps, 7 Valves, 2119.1ms\n",
      "image 3/3 d:\\School\\BD02\\BLok_1_2023\\ZM0006-PID_Machine-Vision\\Original_PID\\PID3.png: 1024x736 47 Compressors, 5 Conveyors, 2 Tanks, 13 Centrifugal Pumps, 4 Heat Exchangers, 4 Pumps, 3 Valves, 2614.6ms\n",
      "Speed: 8.7ms preprocess, 2441.3ms inference, 1.3ms postprocess per image at shape (1, 3, 1024, 736)\n",
      "Results saved to \u001b[1mruns\\detect\\predict3\u001b[0m\n",
      " Learn more at https://docs.ultralytics.com/modes/predict\n"
     ]
    }
   ],
   "source": [
    "# Predicting the provided P&ID's from the commisioning party\n",
    "!yolo task=detect mode=predict model=runs/detect/train/weights/best.pt conf=0.60 source=Original_PID/*.png imgsz=1000\n"
   ]
  }
 ],
 "metadata": {
  "kernelspec": {
   "display_name": "Python 3",
   "language": "python",
   "name": "python3"
  },
  "language_info": {
   "codemirror_mode": {
    "name": "ipython",
    "version": 3
   },
   "file_extension": ".py",
   "mimetype": "text/x-python",
   "name": "python",
   "nbconvert_exporter": "python",
   "pygments_lexer": "ipython3",
   "version": "3.11.5"
  },
  "orig_nbformat": 4
 },
 "nbformat": 4,
 "nbformat_minor": 2
}
