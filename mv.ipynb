{
 "cells": [
  {
   "cell_type": "markdown",
   "metadata": {},
   "source": [
    "# Imports"
   ]
  },
  {
   "cell_type": "code",
   "execution_count": null,
   "metadata": {},
   "outputs": [],
   "source": [
    "# Importing the ultralytics library and doing system checks to see how many cpu-cores and ram is available\n",
    "import ultralytics\n",
    "ultralytics.checks()\n",
    "# !!! IMPORTANT WHEN THIS IS RUN IT WILL OCCUPY RAM MEMORY UNTILL THE IDE IS EXITED !!!"
   ]
  },
  {
   "cell_type": "code",
   "execution_count": null,
   "metadata": {},
   "outputs": [],
   "source": [
    "# Defining the model\n",
    "yoloV = \"yolov8x.pt\"\n"
   ]
  },
  {
   "cell_type": "code",
   "execution_count": null,
   "metadata": {},
   "outputs": [],
   "source": [
    "# Defining the .yaml file that contains the data configuration\n",
    "data_config = \"data.yaml\"\n"
   ]
  },
  {
   "cell_type": "code",
   "execution_count": null,
   "metadata": {},
   "outputs": [],
   "source": [
    "# Training the model\n",
    "# model.train(data = data_config, epochs = 10, batch = 16, verbose=True, show=True)  --  outdated code\n",
    "\n",
    "!yolo task=detect mode=train model={yoloV} data=data.yaml imgsz=700 epochs=100 plots=True --verbose\n"
   ]
  },
  {
   "cell_type": "markdown",
   "metadata": {},
   "source": [
    "This model is for GPU training, only enable if you have a NVidia GPU"
   ]
  },
  {
   "cell_type": "code",
   "execution_count": null,
   "metadata": {},
   "outputs": [],
   "source": [
    "# !yolo task=detect mode=train model={yoloV} data={data_config} imgsz=640 epochs=100 plots=True device=0\n"
   ]
  },
  {
   "cell_type": "code",
   "execution_count": null,
   "metadata": {},
   "outputs": [],
   "source": [
    "# Validation based on the currently best trained model\n",
    "!yolo task=detect mode=val model=runs/detect/train/weights/best.pt data={data_config} conf=0.7 imgsz=1024\n"
   ]
  },
  {
   "cell_type": "code",
   "execution_count": null,
   "metadata": {},
   "outputs": [],
   "source": [
    "# Predicting the test set that is the easiest\n",
    "!yolo task=detect mode=predict model=runs/detect/train/weights/best.pt conf=0.60 source=datasets/Labels_PID/images/test/*.png imgsz=1024\n"
   ]
  },
  {
   "cell_type": "code",
   "execution_count": null,
   "metadata": {},
   "outputs": [],
   "source": [
    "# Predicting the pictures from the training dataset\n",
    "!yolo task=detect mode=predict model=runs/detect/train/weights/best.pt conf=0.60 source=datasets/Labels_PID/images/test/test-but-train/*.png imgsz=1024\n"
   ]
  },
  {
   "cell_type": "code",
   "execution_count": null,
   "metadata": {},
   "outputs": [],
   "source": [
    "# Predicting the provided P&ID's from the commisioning party\n",
    "!yolo task=detect mode=predict model=runs/detect/train/weights/best.pt conf=0.60 source=test/Original_PID_PNG/*.png imgsz=1024\n"
   ]
  }
 ],
 "metadata": {
  "kernelspec": {
   "display_name": "Python 3",
   "language": "python",
   "name": "python3"
  },
  "language_info": {
   "codemirror_mode": {
    "name": "ipython",
    "version": 3
   },
   "file_extension": ".py",
   "mimetype": "text/x-python",
   "name": "python",
   "nbconvert_exporter": "python",
   "pygments_lexer": "ipython3",
   "version": "3.11.5"
  },
  "orig_nbformat": 4
 },
 "nbformat": 4,
 "nbformat_minor": 2
}
