{
 "cells": [
  {
   "cell_type": "markdown",
   "metadata": {},
   "source": [
    "# Imports"
   ]
  },
  {
   "cell_type": "code",
   "execution_count": null,
   "metadata": {},
   "outputs": [],
   "source": [
    "import ultralytics\n",
    "import subprocess\n",
    "from ultralytics import YOLO\n",
    "import os\n"
   ]
  },
  {
   "cell_type": "code",
   "execution_count": null,
   "metadata": {},
   "outputs": [],
   "source": [
    "ultralytics.checks()\n"
   ]
  },
  {
   "cell_type": "code",
   "execution_count": null,
   "metadata": {},
   "outputs": [],
   "source": [
    "# Defining the model\n",
    "model = YOLO(\"yolov8s.pt\")\n"
   ]
  },
  {
   "cell_type": "code",
   "execution_count": null,
   "metadata": {},
   "outputs": [],
   "source": [
    "# Defining the .yaml file that contains the data configuration\n",
    "data_config = \"data.yaml\"\n"
   ]
  },
  {
   "cell_type": "code",
   "execution_count": null,
   "metadata": {},
   "outputs": [],
   "source": [
    "# # Training the model\n",
    "# model.train(data = data_config, epochs = 10, batch = 16, verbose=True, show=True)\n",
    "\n",
    "# !yolo task=detect mode=train model={model} data={data_config} epochs=1 batch=5 nbs=100 plots=True #|| or you could use the code below\n",
    "\n",
    "# Read the configuration from the file and split it into individual lines\n",
    "with open('train.txt', 'r') as config_file:\n",
    "    config_lines = config_file.read().splitlines()\n",
    "\n",
    "# Execute each line as a subprocess\n",
    "for line in config_lines:\n",
    "    subprocess.run(f'yolo {line}', shell=True)\n"
   ]
  },
  {
   "cell_type": "code",
   "execution_count": null,
   "metadata": {},
   "outputs": [],
   "source": [
    "# Read the configuration from the file and split it into individual lines\n",
    "with open('val.txt', 'r') as config_file:\n",
    "    config_lines = config_file.read().splitlines()\n",
    "\n",
    "# Execute each line as a subprocess\n",
    "for line in config_lines:\n",
    "    subprocess.run(f'yolo {line}', shell=True)"
   ]
  },
  {
   "cell_type": "code",
   "execution_count": null,
   "metadata": {},
   "outputs": [],
   "source": [
    "# Read the configuration from the file and split it into individual lines\n",
    "with open('test.txt', 'r') as config_file:\n",
    "    config_lines = config_file.read().splitlines()\n",
    "\n",
    "# Execute each line as a subprocess\n",
    "for line in config_lines:\n",
    "    subprocess.run(f'yolo {line}', shell=True)"
   ]
  },
  {
   "cell_type": "code",
   "execution_count": null,
   "metadata": {},
   "outputs": [],
   "source": [
    "!yolo task=detect mode=val model=runs/detect/train/weights/best.pt data={data_config} plots=True\n"
   ]
  },
  {
   "cell_type": "code",
   "execution_count": null,
   "metadata": {},
   "outputs": [],
   "source": [
    "!yolo task=detect mode=predict model=runs/detect/train/weights/best.pt conf=0.11 source=datasets/datasets/Labels_PID/images/test/*.png plots=True\n",
    "\n"
   ]
  }
 ],
 "metadata": {
  "kernelspec": {
   "display_name": "Python 3",
   "language": "python",
   "name": "python3"
  },
  "language_info": {
   "codemirror_mode": {
    "name": "ipython",
    "version": 3
   },
   "file_extension": ".py",
   "mimetype": "text/x-python",
   "name": "python",
   "nbconvert_exporter": "python",
   "pygments_lexer": "ipython3",
   "version": "3.11.4"
  },
  "orig_nbformat": 4
 },
 "nbformat": 4,
 "nbformat_minor": 2
}
