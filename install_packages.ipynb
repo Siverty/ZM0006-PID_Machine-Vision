{
 "cells": [
  {
   "cell_type": "markdown",
   "metadata": {},
   "source": [
    "# Importing subprocess\n",
    "\n",
    "used to run pip and python commands without user interaction."
   ]
  },
  {
   "cell_type": "code",
   "execution_count": 1,
   "metadata": {},
   "outputs": [],
   "source": [
    "import subprocess\n"
   ]
  },
  {
   "cell_type": "markdown",
   "metadata": {},
   "source": [
    "Listing the packages that need to be installed."
   ]
  },
  {
   "cell_type": "code",
   "execution_count": 2,
   "metadata": {},
   "outputs": [],
   "source": [
    "# List of packages to check and install || Add packages to this list when needed, or completely change it to fit your projects needs.\n",
    "packages = [\n",
    "    \"comet_ml\",\n",
    "    \"tabulate\",\n",
    "    \"ultralytics\",\n",
    "    \"roboflow\",\n",
    "    \"numpy\",\n",
    "    \"torch\",\n",
    "    \"torchvision\",\n",
    "    \"matplotlib\",\n",
    "    \"scikit-image\",\n",
    "    \"torch\",\n",
    "    \"sklearn\",\n",
    "    \"scipy\",\n",
    "    \"opencv-python\",\n",
    "    \"pillow\",\n",
    "    \"pyyaml\",\n",
    "    \"tqdm\",\n",
    "    \"requests\",\n",
    "    \"opencv-python-headless\",\n",
    "    \"gitpython\",\n",
    "    \"setuptools\",\n",
    "    \"IPython\"\n",
    "]\n"
   ]
  },
  {
   "cell_type": "markdown",
   "metadata": {},
   "source": [
    "Checking if the functions are installed already or need to be installed via this script."
   ]
  },
  {
   "cell_type": "code",
   "execution_count": 3,
   "metadata": {},
   "outputs": [],
   "source": [
    "# Function to check if a package is installed.\n",
    "def check_package_installed(package):\n",
    "    try:\n",
    "        # Use subprocess to run the command and capture the output.\n",
    "        result = subprocess.run(\n",
    "            [\"pip\", \"show\", package], capture_output=True, text=True\n",
    "        )\n",
    "\n",
    "        # Check the return code of the subprocess command.\n",
    "        if result.returncode == 0:\n",
    "            # Package is installed\n",
    "            return True\n",
    "        else:\n",
    "            # Package is not installed.\n",
    "            return False\n",
    "    except Exception as e:\n",
    "        print(f\"An error occurred while checking package '{package}': {str(e)}\")\n",
    "        return False\n",
    "    \n"
   ]
  },
  {
   "cell_type": "markdown",
   "metadata": {},
   "source": [
    "Installing the packages."
   ]
  },
  {
   "cell_type": "code",
   "execution_count": 4,
   "metadata": {},
   "outputs": [],
   "source": [
    "# Function to install a package.\n",
    "def install_package(package):\n",
    "    try:\n",
    "        # Use subprocess to run the command and capture the output.\n",
    "        subprocess.run([\"pip\", \"install\", package])\n",
    "        return \"Newly Installed\"\n",
    "    except Exception as e:\n",
    "        return f\"Error: {str(e)}\"\n",
    "\n",
    "# Check package status.\n",
    "package_status = []\n",
    "for package in packages:\n",
    "    if check_package_installed(package):\n",
    "        package_status.append([package, \"✓\", \"\"])\n",
    "    else:\n",
    "        package_status.append([package, \"\", \"✓\"])\n",
    "        install_package(package)\n"
   ]
  },
  {
   "cell_type": "markdown",
   "metadata": {},
   "source": [
    "Making pretty tables to visualize the newly installed packages."
   ]
  },
  {
   "cell_type": "code",
   "execution_count": 5,
   "metadata": {},
   "outputs": [
    {
     "name": "stdout",
     "output_type": "stream",
     "text": [
      "+------------------------+---------------------+-------------------+\n",
      "| Package                | Already Installed   | Newly Installed   |\n",
      "+========================+=====================+===================+\n",
      "| comet_ml               |                     | ✓                 |\n",
      "+------------------------+---------------------+-------------------+\n",
      "| tabulate               | ✓                   |                   |\n",
      "+------------------------+---------------------+-------------------+\n",
      "| ultralytics            | ✓                   |                   |\n",
      "+------------------------+---------------------+-------------------+\n",
      "| roboflow               | ✓                   |                   |\n",
      "+------------------------+---------------------+-------------------+\n",
      "| numpy                  | ✓                   |                   |\n",
      "+------------------------+---------------------+-------------------+\n",
      "| torch                  | ✓                   |                   |\n",
      "+------------------------+---------------------+-------------------+\n",
      "| torchvision            | ✓                   |                   |\n",
      "+------------------------+---------------------+-------------------+\n",
      "| matplotlib             | ✓                   |                   |\n",
      "+------------------------+---------------------+-------------------+\n",
      "| scikit-image           | ✓                   |                   |\n",
      "+------------------------+---------------------+-------------------+\n",
      "| torch                  | ✓                   |                   |\n",
      "+------------------------+---------------------+-------------------+\n",
      "| sklearn                | ✓                   |                   |\n",
      "+------------------------+---------------------+-------------------+\n",
      "| scipy                  | ✓                   |                   |\n",
      "+------------------------+---------------------+-------------------+\n",
      "| opencv-python          | ✓                   |                   |\n",
      "+------------------------+---------------------+-------------------+\n",
      "| pillow                 | ✓                   |                   |\n",
      "+------------------------+---------------------+-------------------+\n",
      "| pyyaml                 | ✓                   |                   |\n",
      "+------------------------+---------------------+-------------------+\n",
      "| tqdm                   | ✓                   |                   |\n",
      "+------------------------+---------------------+-------------------+\n",
      "| requests               | ✓                   |                   |\n",
      "+------------------------+---------------------+-------------------+\n",
      "| opencv-python-headless | ✓                   |                   |\n",
      "+------------------------+---------------------+-------------------+\n",
      "| gitpython              | ✓                   |                   |\n",
      "+------------------------+---------------------+-------------------+\n",
      "| setuptools             | ✓                   |                   |\n",
      "+------------------------+---------------------+-------------------+\n",
      "| IPython                | ✓                   |                   |\n",
      "+------------------------+---------------------+-------------------+\n"
     ]
    }
   ],
   "source": [
    "from tabulate import tabulate\n",
    "\n",
    "# Generate output table.\n",
    "table_headers = [\"Package\", \"Already Installed\", \"Newly Installed\"]\n",
    "output_table = tabulate(package_status, headers=table_headers, tablefmt=\"grid\")\n",
    "\n",
    "# Print the output table.\n",
    "print(output_table)\n"
   ]
  }
 ],
 "metadata": {
  "kernelspec": {
   "display_name": "Python 3",
   "language": "python",
   "name": "python3"
  },
  "language_info": {
   "codemirror_mode": {
    "name": "ipython",
    "version": 3
   },
   "file_extension": ".py",
   "mimetype": "text/x-python",
   "name": "python",
   "nbconvert_exporter": "python",
   "pygments_lexer": "ipython3",
   "version": "3.11.4"
  },
  "orig_nbformat": 4
 },
 "nbformat": 4,
 "nbformat_minor": 2
}
