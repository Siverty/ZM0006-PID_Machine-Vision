{
 "cells": [
  {
   "cell_type": "markdown",
   "metadata": {},
   "source": [
    "# Importing subprocess\n",
    "\n",
    "used to run pip and python commands without user interaction."
   ]
  },
  {
   "cell_type": "code",
   "execution_count": 1,
   "metadata": {},
   "outputs": [],
   "source": [
    "import subprocess\n"
   ]
  },
  {
   "cell_type": "markdown",
   "metadata": {},
   "source": [
    "A list the packages that need to be installed. (can be modified by the user)"
   ]
  },
  {
   "cell_type": "code",
   "execution_count": 2,
   "metadata": {},
   "outputs": [],
   "source": [
    "# List of packages to check and install || Add packages to this list when needed, or completely change it to fit your projects needs.\n",
    "packages = [\n",
    "    'tabulate',\n",
    "    'ultralytics',\n",
    "    'IPython'\n",
    "    'matplotlib',\n",
    "    'numpy',\n",
    "    'opencv-python',\n",
    "    'pillow',\n",
    "    'pyyaml',\n",
    "    'requests',\n",
    "    'scipy',\n",
    "    'torch',\n",
    "    'torchvision',\n",
    "    'tqdm',\n",
    "    'tensorboard',\n",
    "    'clearml',\n",
    "    'comet',\n",
    "    'pandas',\n",
    "    'seaborn',\n",
    "    'coremltools',\n",
    "    'onnx',\n",
    "    'onnxsim',\n",
    "    'nvidia-pyindex',\n",
    "    'nvidia-tensorrt',\n",
    "    'scikit-learn',\n",
    "    'tensorflow',\n",
    "    'tersorflowjs',\n",
    "    'openvino-dev',\n",
    "    'py-cpuinfo'\n",
    "    'easyocr'\n",
    "]\n"
   ]
  },
  {
   "cell_type": "markdown",
   "metadata": {},
   "source": [
    "Checking if the functions are installed already or need to be installed via this script."
   ]
  },
  {
   "cell_type": "code",
   "execution_count": 3,
   "metadata": {},
   "outputs": [],
   "source": [
    "# Function to check if a package is installed.\n",
    "def check_package_installed(package):\n",
    "    try:\n",
    "        # Use subprocess to run the command and capture the output.\n",
    "        result = subprocess.run(\n",
    "            [\"pip\", \"show\", package], capture_output=True, text=True\n",
    "        )\n",
    "\n",
    "        # Check the return code of the subprocess command.\n",
    "        if result.returncode == 0:\n",
    "            # Package is installed\n",
    "            return True\n",
    "        else:\n",
    "            # Package is not installed.\n",
    "            return False\n",
    "    except Exception as e:\n",
    "        print(f\"An error occurred while checking package '{package}': {str(e)}\")\n",
    "        return False\n",
    "    \n"
   ]
  },
  {
   "cell_type": "markdown",
   "metadata": {},
   "source": [
    "Installing the packages with pip. (change pip to \"conda\" if you're using conda)"
   ]
  },
  {
   "cell_type": "code",
   "execution_count": 4,
   "metadata": {},
   "outputs": [],
   "source": [
    "# Function to install a package.\n",
    "def install_package(package):\n",
    "    try:\n",
    "        # Use subprocess to run the command and capture the output.\n",
    "        subprocess.run([\"pip\", \"install\", package])\n",
    "        return \"Newly Installed\"\n",
    "    except Exception as e:\n",
    "        return f\"Error: {str(e)}\"\n",
    "\n",
    "# Check package status.\n",
    "package_status = []\n",
    "for package in packages:\n",
    "    if check_package_installed(package):\n",
    "        package_status.append([package, \"✓\", \"\"])\n",
    "    else:\n",
    "        package_status.append([package, \"\", \"✓\"])\n",
    "        install_package(package)\n"
   ]
  },
  {
   "cell_type": "markdown",
   "metadata": {},
   "source": [
    "Making a pretty table to visualize the newly installed packages."
   ]
  },
  {
   "cell_type": "code",
   "execution_count": 5,
   "metadata": {},
   "outputs": [
    {
     "name": "stdout",
     "output_type": "stream",
     "text": [
      "Looking in indexes: https://pypi.org/simple, https://pypi.ngc.nvidia.com\n",
      "Requirement already satisfied: tabulate in c:\\users\\maxgo\\appdata\\local\\programs\\python\\python312\\lib\\site-packages (0.9.0)\n",
      "Note: you may need to restart the kernel to use updated packages.\n"
     ]
    }
   ],
   "source": [
    "# The script sometimes breaks because tabulate is not installed by default or has not been installed correctly. That's why this code exists :)\n",
    "%pip install tabulate"
   ]
  },
  {
   "cell_type": "code",
   "execution_count": 6,
   "metadata": {},
   "outputs": [
    {
     "name": "stdout",
     "output_type": "stream",
     "text": [
      "+-------------------+---------------------+-------------------+\n",
      "| Package           | Already Installed   | Newly Installed   |\n",
      "+===================+=====================+===================+\n",
      "| tabulate          | ✓                   |                   |\n",
      "+-------------------+---------------------+-------------------+\n",
      "| ultralytics       | ✓                   |                   |\n",
      "+-------------------+---------------------+-------------------+\n",
      "| IPythonmatplotlib |                     | ✓                 |\n",
      "+-------------------+---------------------+-------------------+\n",
      "| numpy             | ✓                   |                   |\n",
      "+-------------------+---------------------+-------------------+\n",
      "| opencv-python     | ✓                   |                   |\n",
      "+-------------------+---------------------+-------------------+\n",
      "| pillow            | ✓                   |                   |\n",
      "+-------------------+---------------------+-------------------+\n",
      "| pyyaml            | ✓                   |                   |\n",
      "+-------------------+---------------------+-------------------+\n",
      "| requests          | ✓                   |                   |\n",
      "+-------------------+---------------------+-------------------+\n",
      "| scipy             | ✓                   |                   |\n",
      "+-------------------+---------------------+-------------------+\n",
      "| torch             | ✓                   |                   |\n",
      "+-------------------+---------------------+-------------------+\n",
      "| torchvision       | ✓                   |                   |\n",
      "+-------------------+---------------------+-------------------+\n",
      "| tqdm              | ✓                   |                   |\n",
      "+-------------------+---------------------+-------------------+\n",
      "| tensorboard       | ✓                   |                   |\n",
      "+-------------------+---------------------+-------------------+\n",
      "| clearml           | ✓                   |                   |\n",
      "+-------------------+---------------------+-------------------+\n",
      "| comet             | ✓                   |                   |\n",
      "+-------------------+---------------------+-------------------+\n",
      "| pandas            | ✓                   |                   |\n",
      "+-------------------+---------------------+-------------------+\n",
      "| seaborn           | ✓                   |                   |\n",
      "+-------------------+---------------------+-------------------+\n",
      "| coremltools       | ✓                   |                   |\n",
      "+-------------------+---------------------+-------------------+\n",
      "| onnx              | ✓                   |                   |\n",
      "+-------------------+---------------------+-------------------+\n",
      "| onnxsim           | ✓                   |                   |\n",
      "+-------------------+---------------------+-------------------+\n",
      "| nvidia-pyindex    | ✓                   |                   |\n",
      "+-------------------+---------------------+-------------------+\n",
      "| nvidia-tensorrt   |                     | ✓                 |\n",
      "+-------------------+---------------------+-------------------+\n",
      "| scikit-learn      | ✓                   |                   |\n",
      "+-------------------+---------------------+-------------------+\n",
      "| tensorflow        | ✓                   |                   |\n",
      "+-------------------+---------------------+-------------------+\n",
      "| tersorflowjs      |                     | ✓                 |\n",
      "+-------------------+---------------------+-------------------+\n",
      "| openvino-dev      | ✓                   |                   |\n",
      "+-------------------+---------------------+-------------------+\n",
      "| py-cpuinfo        | ✓                   |                   |\n",
      "+-------------------+---------------------+-------------------+\n"
     ]
    }
   ],
   "source": [
    "import tabulate\n",
    "from tabulate import tabulate\n",
    "\n",
    "# Generate output table.\n",
    "table_headers = [\"Package\", \"Already Installed\", \"Newly Installed\"]\n",
    "output_table = tabulate(package_status, headers=table_headers, tablefmt=\"grid\")\n",
    "\n",
    "# Print the output table.\n",
    "print(output_table)\n"
   ]
  }
 ],
 "metadata": {
  "kernelspec": {
   "display_name": "Python 3",
   "language": "python",
   "name": "python3"
  },
  "language_info": {
   "codemirror_mode": {
    "name": "ipython",
    "version": 3
   },
   "file_extension": ".py",
   "mimetype": "text/x-python",
   "name": "python",
   "nbconvert_exporter": "python",
   "pygments_lexer": "ipython3",
   "version": "3.12.0"
  },
  "orig_nbformat": 4
 },
 "nbformat": 4,
 "nbformat_minor": 2
}
