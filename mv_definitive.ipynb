{
 "cells": [
  {
   "cell_type": "markdown",
   "metadata": {},
   "source": [
    "# Imports"
   ]
  },
  {
   "cell_type": "code",
   "execution_count": 1,
   "metadata": {},
   "outputs": [
    {
     "name": "stderr",
     "output_type": "stream",
     "text": [
      "Ultralytics YOLOv8.0.207  Python-3.11.5 torch-2.1.0+cpu CPU (AMD Ryzen 5 3600X 6-Core Processor)\n",
      "Setup complete  (12 CPUs, 64.0 GB RAM, 26.6/930.9 GB disk)\n"
     ]
    }
   ],
   "source": [
    "# Importing the ultralytics library and doing system checks to see how many cpu-cores and ram is available\n",
    "import ultralytics\n",
    "from ultralytics import YOLO\n",
    "ultralytics.checks()\n",
    "# !!! IMPORTANT WHEN THIS IS RUN IT WILL OCCUPY RAM MEMORY UNTILL THE IDE IS EXITED !!!"
   ]
  },
  {
   "cell_type": "code",
   "execution_count": null,
   "metadata": {},
   "outputs": [],
   "source": [
    "# Loading the model\n",
    "model = YOLO(\"yolov8x.pt\")\n",
    "\n",
    "# defining the custom dataset\n",
    "data_C= \"data.yaml\"\n",
    "\n",
    "# The amount of epochs the model will train\n",
    "epochs_C = 3\n",
    "\n",
    "# The test dataset\n",
    "test_CA = \"test/Original_PID_PNG/*.png\"\n",
    "\n",
    "# Using the model\n",
    "model.train(data=\"data.yaml\", epochs=epochs_C)  # train the model\n",
    "\n",
    "results = model(test_C)  # predict on an image\n"
   ]
  },
  {
   "cell_type": "code",
   "execution_count": null,
   "metadata": {},
   "outputs": [],
   "source": [
    "# training the model\n",
    "model.train(data=data_C, epochs=3)  # train the model"
   ]
  },
  {
   "cell_type": "code",
   "execution_count": null,
   "metadata": {},
   "outputs": [],
   "source": [
    "# evaluating the model\n",
    "metrics = model.val()  # evaluate model performance on the validation set"
   ]
  },
  {
   "cell_type": "code",
   "execution_count": null,
   "metadata": {},
   "outputs": [],
   "source": [
    "results = model(test_CA)  # predicting on the test set"
   ]
  }
 ],
 "metadata": {
  "kernelspec": {
   "display_name": "Python 3",
   "language": "python",
   "name": "python3"
  },
  "language_info": {
   "codemirror_mode": {
    "name": "ipython",
    "version": 3
   },
   "file_extension": ".py",
   "mimetype": "text/x-python",
   "name": "python",
   "nbconvert_exporter": "python",
   "pygments_lexer": "ipython3",
   "version": "3.11.5"
  },
  "orig_nbformat": 4
 },
 "nbformat": 4,
 "nbformat_minor": 2
}
