{
 "cells": [
  {
   "cell_type": "markdown",
   "metadata": {},
   "source": [
    "# Imports"
   ]
  },
  {
   "cell_type": "code",
   "execution_count": 1,
   "metadata": {},
   "outputs": [],
   "source": [
    "import torch"
   ]
  },
  {
   "cell_type": "code",
   "execution_count": null,
   "metadata": {},
   "outputs": [],
   "source": [
    "# Tensorboard (optional)\n",
    "%load_ext tensorboard\n",
    "%tensorboard --logdir runs"
   ]
  },
  {
   "cell_type": "code",
   "execution_count": 2,
   "metadata": {},
   "outputs": [
    {
     "name": "stdout",
     "output_type": "stream",
     "text": [
      "\u001b[34m\u001b[1mgithub: \u001b[0mskipping check (not a git repository), for updates see https://github.com/ultralytics/yolov5\n"
     ]
    },
    {
     "name": "stderr",
     "output_type": "stream",
     "text": [
      "\u001b[34m\u001b[1mtrain: \u001b[0mweights=yolov5s.pt, cfg=, data=coco128.yaml, hyp=yolov5\\data\\hyps\\hyp.scratch-low.yaml, epochs=300, batch_size=16, imgsz=640, rect=False, resume=False, nosave=True, noval=False, noautoanchor=False, noplots=False, evolve=None, bucket=, cache=ram, image_weights=False, device=, multi_scale=False, single_cls=False, optimizer=SGD, sync_bn=False, workers=8, project=yolov5\\runs\\train, name=exp, exist_ok=False, quad=False, cos_lr=False, label_smoothing=0.0, patience=100, freeze=[0], save_period=-1, seed=0, local_rank=-1, entity=None, upload_dataset=False, bbox_interval=-1, artifact_alias=latest\n",
      "YOLOv5  2023-9-15 Python-3.11.4 torch-2.0.1+cpu CPU\n",
      "\n",
      "\u001b[34m\u001b[1mhyperparameters: \u001b[0mlr0=0.01, lrf=0.01, momentum=0.937, weight_decay=0.0005, warmup_epochs=3.0, warmup_momentum=0.8, warmup_bias_lr=0.1, box=0.05, cls=0.5, cls_pw=1.0, obj=1.0, obj_pw=1.0, iou_t=0.2, anchor_t=4.0, fl_gamma=0.0, hsv_h=0.015, hsv_s=0.7, hsv_v=0.4, degrees=0.0, translate=0.1, scale=0.5, shear=0.0, perspective=0.0, flipud=0.0, fliplr=0.5, mosaic=1.0, mixup=0.0, copy_paste=0.0\n",
      "\u001b[34m\u001b[1mTensorBoard: \u001b[0mStart with 'tensorboard --logdir yolov5\\runs\\train', view at http://localhost:6006/\n",
      "COMET WARNING: Comet credentials have not been set. Comet will default to offline logging. Please set your credentials to enable online logging.\n",
      "COMET INFO: Using 'D:\\\\School\\\\BD02\\\\Code\\\\ZM0006-PID_Machine-Vision\\\\.cometml-runs' path as offline directory. Pass 'offline_directory' parameter into constructor or set the 'COMET_OFFLINE_DIRECTORY' environment variable to manually choose where to store offline experiment archives.\n",
      "COMET WARNING: Native output logging mode is not available, falling back to basic output logging\n",
      "Traceback (most recent call last):\n",
      "  File \"d:\\School\\BD02\\Code\\ZM0006-PID_Machine-Vision\\yolov5\\train.py\", line 647, in <module>\n",
      "    main(opt)\n",
      "  File \"d:\\School\\BD02\\Code\\ZM0006-PID_Machine-Vision\\yolov5\\train.py\", line 536, in main\n",
      "    train(opt.hyp, opt, device, callbacks)\n",
      "  File \"d:\\School\\BD02\\Code\\ZM0006-PID_Machine-Vision\\yolov5\\train.py\", line 101, in train\n",
      "    loggers = Loggers(save_dir, weights, opt, hyp, LOGGER)  # loggers instance\n",
      "              ^^^^^^^^^^^^^^^^^^^^^^^^^^^^^^^^^^^^^^^^^^^^\n",
      "  File \"d:\\School\\BD02\\Code\\ZM0006-PID_Machine-Vision\\yolov5\\utils\\loggers\\__init__.py\", line 129, in __init__\n",
      "    self.comet_logger = CometLogger(self.opt, self.hyp)\n",
      "                        ^^^^^^^^^^^^^^^^^^^^^^^^^^^^^^^\n",
      "  File \"d:\\School\\BD02\\Code\\ZM0006-PID_Machine-Vision\\yolov5\\utils\\loggers\\comet\\__init__.py\", line 98, in __init__\n",
      "    self.data_dict = self.check_dataset(self.opt.data)\n",
      "                     ^^^^^^^^^^^^^^^^^^^^^^^^^^^^^^^^^\n",
      "  File \"d:\\School\\BD02\\Code\\ZM0006-PID_Machine-Vision\\yolov5\\utils\\loggers\\comet\\__init__.py\", line 244, in check_dataset\n",
      "    return check_dataset(data_file)\n",
      "           ^^^^^^^^^^^^^^^^^^^^^^^^\n",
      "  File \"d:\\School\\BD02\\Code\\ZM0006-PID_Machine-Vision\\yolov5\\utils\\general.py\", line 502, in check_dataset\n",
      "    assert all(isinstance(k, int) for k in data['names'].keys()), 'data.yaml names keys must be integers, i.e. 2: car'\n",
      "                                           ^^^^^^^^^^^^^^^^^^\n",
      "AttributeError: 'NoneType' object has no attribute 'keys'\n",
      "COMET INFO: ---------------------------------------------------------------------------------------\n",
      "COMET INFO: Comet.ml OfflineExperiment Summary\n",
      "COMET INFO: ---------------------------------------------------------------------------------------\n",
      "COMET INFO:   Data:\n",
      "COMET INFO:     display_summary_level : 1\n",
      "COMET INFO:     url                   : [OfflineExperiment will get URL after upload]\n",
      "COMET INFO:   Others:\n",
      "COMET INFO:     Name               : exp\n",
      "COMET INFO:     offline_experiment : True\n",
      "COMET INFO:   Uploads:\n",
      "COMET INFO:     asset               : 1 (3.79 KB)\n",
      "COMET INFO:     environment details : 1\n",
      "COMET INFO:     git metadata        : 1\n",
      "COMET INFO:     installed packages  : 1\n",
      "COMET INFO: \n",
      "COMET INFO: Still saving offline stats to messages file before program termination (may take up to 120 seconds)\n",
      "COMET INFO: Starting saving the offline archive\n",
      "COMET INFO: To upload this offline experiment, run:\n",
      "    comet upload D:\\School\\BD02\\Code\\ZM0006-PID_Machine-Vision\\.cometml-runs\\c618b32476d549a9be8b226f1ea7d8b9.zip\n"
     ]
    }
   ],
   "source": [
    "!python yolov5/train.py --img 640 --batch 16 --epochs 300 --data coco128.yaml --weights yolov5s.pt --nosave --cache"
   ]
  },
  {
   "cell_type": "code",
   "execution_count": 3,
   "metadata": {},
   "outputs": [
    {
     "name": "stderr",
     "output_type": "stream",
     "text": [
      "\u001b[34m\u001b[1mdetect: \u001b[0mweights=['yolov5s.pt'], source=Labels_PID/images/training/*.png, data=yolov5\\data\\coco128.yaml, imgsz=[640, 640], conf_thres=0.25, iou_thres=0.45, max_det=1000, device=, view_img=False, save_txt=False, save_csv=False, save_conf=False, save_crop=False, nosave=False, classes=None, agnostic_nms=False, augment=False, visualize=False, update=False, project=yolov5\\runs\\detect, name=exp, exist_ok=False, line_thickness=3, hide_labels=False, hide_conf=False, half=False, dnn=False, vid_stride=1\n",
      "YOLOv5  2023-9-15 Python-3.11.4 torch-2.0.1+cpu CPU\n",
      "\n",
      "Fusing layers... \n",
      "YOLOv5s summary: 213 layers, 7225885 parameters, 0 gradients\n",
      "image 1/7 D:\\School\\BD02\\Code\\ZM0006-PID_Machine-Vision\\Labels_PID\\images\\training\\pid_equipment_legend-820x2123.png: 640x256 (no detections), 104.8ms\n",
      "image 2/7 D:\\School\\BD02\\Code\\ZM0006-PID_Machine-Vision\\Labels_PID\\images\\training\\pid_heat_exchanger_legend-789x988.png: 640x512 (no detections), 166.5ms\n",
      "image 3/7 D:\\School\\BD02\\Code\\ZM0006-PID_Machine-Vision\\Labels_PID\\images\\training\\pid_instruments_legend-796x1485.png: 640x352 (no detections), 120.9ms\n",
      "image 4/7 D:\\School\\BD02\\Code\\ZM0006-PID_Machine-Vision\\Labels_PID\\images\\training\\pid_piping_legend-720x1508.png: 640x320 (no detections), 121.2ms\n",
      "image 5/7 D:\\School\\BD02\\Code\\ZM0006-PID_Machine-Vision\\Labels_PID\\images\\training\\pid_pump_legend-815x936.png: 640x576 (no detections), 181.3ms\n",
      "image 6/7 D:\\School\\BD02\\Code\\ZM0006-PID_Machine-Vision\\Labels_PID\\images\\training\\pid_valve_legend-780x989.png: 640x512 (no detections), 158.1ms\n",
      "image 7/7 D:\\School\\BD02\\Code\\ZM0006-PID_Machine-Vision\\Labels_PID\\images\\training\\pid_vessels_legend-745x1016.png: 640x480 (no detections), 186.0ms\n",
      "Speed: 0.4ms pre-process, 148.4ms inference, 0.8ms NMS per image at shape (1, 3, 640, 640)\n",
      "Results saved to \u001b[1myolov5\\runs\\detect\\exp\u001b[0m\n"
     ]
    }
   ],
   "source": [
    "!python yolov5/detect.py --source Labels_PID/images/training/*.png --weights yolov5s.pt --conf 0.25"
   ]
  }
 ],
 "metadata": {
  "kernelspec": {
   "display_name": "Python 3",
   "language": "python",
   "name": "python3"
  },
  "language_info": {
   "codemirror_mode": {
    "name": "ipython",
    "version": 3
   },
   "file_extension": ".py",
   "mimetype": "text/x-python",
   "name": "python",
   "nbconvert_exporter": "python",
   "pygments_lexer": "ipython3",
   "version": "3.11.4"
  },
  "orig_nbformat": 4
 },
 "nbformat": 4,
 "nbformat_minor": 2
}
