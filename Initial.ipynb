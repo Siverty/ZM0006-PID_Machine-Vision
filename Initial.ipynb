{
 "cells": [
  {
   "cell_type": "markdown",
   "metadata": {},
   "source": [
    "# Imports"
   ]
  },
  {
   "cell_type": "code",
   "execution_count": null,
   "metadata": {},
   "outputs": [],
   "source": [
    "import os\n",
    "import subprocess\n",
    "\n",
    "from PIL import Image\n",
    "import requests\n",
    "from io import BytesIO\n",
    "import cv2\n",
    "import torch\n",
    "import numpy as np\n",
    "from roboflow import Roboflow\n",
    "import torch\n",
    "from IPython.display import Image\n",
    "# from utils.google_utils import gdrive_download\n",
    "\n",
    "# Load YOLOv5\n",
    "model = torch.hub.load('ultralytics/yolov5:master', 'yolov5s')  # You can choose different YOLOv5 models (s, m, l, x)"
   ]
  },
  {
   "cell_type": "code",
   "execution_count": null,
   "metadata": {},
   "outputs": [],
   "source": [
    "rf = Roboflow(api_key=\"hKvO31OokmR0RAEDcrUz\")\n",
    "project = rf.workspace(\"seonhye0417-gmail-com\").project(\"p-id-symbol\")\n",
    "dataset = project.version(4).download(\"yolov5\")"
   ]
  },
  {
   "cell_type": "code",
   "execution_count": null,
   "metadata": {},
   "outputs": [],
   "source": [
    "# # Load the image from URL\n",
    "# response = requests.get(\"https://images.unsplash.com/photo-1635341914750-7f38b76856d8?ixlib=rb-4.0.3&ixid=MnwxMjA3fDB8MHxwaG90by1wYWdlfHx8fGVufDB8fHx8&auto=format&fit=crop&w=1973&q=80\")\n",
    "# image = Image.open(BytesIO(response.content))\n",
    "# image = cv2.cvtColor(cv2.cvtColor(np.asarray(image), cv2.COLOR_RGB2BGR), cv2.COLOR_BGR2RGB)"
   ]
  },
  {
   "cell_type": "code",
   "execution_count": null,
   "metadata": {},
   "outputs": [],
   "source": [
    "# # Perform object detection\n",
    "# results = model(image)"
   ]
  },
  {
   "cell_type": "code",
   "execution_count": null,
   "metadata": {},
   "outputs": [],
   "source": [
    "# Function to plot bounding boxes\n",
    "def plot_bboxes(image, results, conf=0.6):\n",
    "    for box in results.xyxy[0]:\n",
    "        if box[4] > conf:\n",
    "            label = model.names[int(box[5])]\n",
    "            color = tuple(np.random.randint(0, 256, 3).tolist())\n",
    "            lw = max(round(sum(image.shape) / 2 * 0.003), 2)\n",
    "            p1, p2 = (int(box[0]), int(box[1])), (int(box[2]), int(box[3]))\n",
    "            cv2.rectangle(image, p1, p2, color, thickness=lw, lineType=cv2.LINE_AA)\n",
    "            tf = max(lw - 1, 1)\n",
    "            w, h = cv2.getTextSize(label, 0, fontScale=lw / 3, thickness=tf)[0]\n",
    "            outside = p1[1] - h >= 3\n",
    "            p2 = p1[0] + w, p1[1] - h - 3 if outside else p1[1] + h + 3\n",
    "            cv2.rectangle(image, p1, p2, color, -1, cv2.LINE_AA)\n",
    "            cv2.putText(image, label, (p1[0], p1[1] - 2 if outside else p1[1] + h + 2), 0, lw / 3, (255, 255, 255), thickness=tf, lineType=cv2.LINE_AA)\n",
    "\n",
    "    image = cv2.cvtColor(image, cv2.COLOR_BGR2RGB)\n",
    "    cv2.imshow('Image', image)\n",
    "    cv2.waitKey(0)\n",
    "    cv2.destroyAllWindows()"
   ]
  },
  {
   "cell_type": "code",
   "execution_count": null,
   "metadata": {},
   "outputs": [],
   "source": [
    "# Call the function to plot bounding boxes\n",
    "plot_bboxes(image, results, conf=0.1)"
   ]
  }
 ],
 "metadata": {
  "kernelspec": {
   "display_name": "Python 3",
   "language": "python",
   "name": "python3"
  },
  "language_info": {
   "codemirror_mode": {
    "name": "ipython",
    "version": 3
   },
   "file_extension": ".py",
   "mimetype": "text/x-python",
   "name": "python",
   "nbconvert_exporter": "python",
   "pygments_lexer": "ipython3",
   "version": "3.11.4"
  },
  "orig_nbformat": 4
 },
 "nbformat": 4,
 "nbformat_minor": 2
}
