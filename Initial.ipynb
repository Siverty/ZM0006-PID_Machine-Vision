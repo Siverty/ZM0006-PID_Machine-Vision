{
 "cells": [
  {
   "cell_type": "markdown",
   "metadata": {},
   "source": [
    "# Imports"
   ]
  },
  {
   "cell_type": "code",
   "execution_count": 1,
   "metadata": {},
   "outputs": [
    {
     "name": "stderr",
     "output_type": "stream",
     "text": [
      "/Users/siverty/anaconda3/lib/python3.10/site-packages/tqdm/auto.py:22: TqdmWarning: IProgress not found. Please update jupyter and ipywidgets. See https://ipywidgets.readthedocs.io/en/stable/user_install.html\n",
      "  from .autonotebook import tqdm as notebook_tqdm\n"
     ]
    }
   ],
   "source": [
    "import torch"
   ]
  },
  {
   "cell_type": "code",
   "execution_count": 2,
   "metadata": {},
   "outputs": [
    {
     "name": "stdout",
     "output_type": "stream",
     "text": [
      "Traceback (most recent call last):\n",
      "  File \"/Users/siverty/Documents/Schooljaar 4/AI/Code Project/ZM0006-PID_Machine-Vision/yolov5/train.py\", line 48, in <module>\n",
      "    import val as validate  # for end-of-epoch mAP\n",
      "  File \"/Users/siverty/Documents/Schooljaar 4/AI/Code Project/ZM0006-PID_Machine-Vision/yolov5/val.py\", line 39, in <module>\n",
      "    from models.common import DetectMultiBackend\n",
      "  File \"/Users/siverty/Documents/Schooljaar 4/AI/Code Project/ZM0006-PID_Machine-Vision/yolov5/models/common.py\", line 18, in <module>\n",
      "    import cv2\n",
      "ModuleNotFoundError: No module named 'cv2'\n"
     ]
    }
   ],
   "source": [
    "!python yolov5/train.py --img 640 --batch 16 --epochs 5 --data coco128.yaml --weights yolov5s.pt"
   ]
  },
  {
   "cell_type": "code",
   "execution_count": 4,
   "metadata": {},
   "outputs": [
    {
     "name": "stdout",
     "output_type": "stream",
     "text": [
      "Traceback (most recent call last):\n",
      "  File \"/Users/siverty/Documents/Schooljaar 4/AI/Code Project/ZM0006-PID_Machine-Vision/yolov5/detect.py\", line 46, in <module>\n",
      "    from ultralytics.utils.plotting import Annotator, colors, save_one_box\n",
      "ModuleNotFoundError: No module named 'ultralytics'\n"
     ]
    }
   ],
   "source": [
    "!python yolov5/detect.py --source 0  # webcam"
   ]
  }
 ],
 "metadata": {
  "kernelspec": {
   "display_name": "Python 3",
   "language": "python",
   "name": "python3"
  },
  "language_info": {
   "codemirror_mode": {
    "name": "ipython",
    "version": 3
   },
   "file_extension": ".py",
   "mimetype": "text/x-python",
   "name": "python",
   "nbconvert_exporter": "python",
   "pygments_lexer": "ipython3",
   "version": "3.10.9"
  },
  "orig_nbformat": 4
 },
 "nbformat": 4,
 "nbformat_minor": 2
}
