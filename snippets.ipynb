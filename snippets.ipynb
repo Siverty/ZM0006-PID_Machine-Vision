{
 "cells": [
  {
   "cell_type": "markdown",
   "metadata": {},
   "source": [
    "# Code for snippeting the original images."
   ]
  },
  {
   "cell_type": "markdown",
   "metadata": {},
   "source": [
    "Helps with processing time."
   ]
  },
  {
   "cell_type": "code",
   "execution_count": 17,
   "metadata": {},
   "outputs": [],
   "source": [
    "from PIL import Image\n",
    "import os\n"
   ]
  },
  {
   "cell_type": "code",
   "execution_count": 18,
   "metadata": {},
   "outputs": [],
   "source": [
    "# Define the input and output directories\n",
    "input_dir = \"Original_PID\"\n",
    "output_dir = \"Original_PID_resized\"\n"
   ]
  },
  {
   "cell_type": "code",
   "execution_count": 19,
   "metadata": {},
   "outputs": [],
   "source": [
    "# Create the output directory if it doesn't exist\n",
    "os.makedirs(output_dir, exist_ok=True)\n",
    "\n",
    "# Loop through all files in the input directory\n",
    "for filename in os.listdir(input_dir):\n",
    "    if filename.endswith(\".png\"):\n",
    "        # Open the image\n",
    "        image = Image.open(os.path.join(input_dir, filename))\n",
    "\n",
    "        # Get the dimensions of the image\n",
    "        width, height = image.size\n",
    "\n",
    "        # Loop through the image and extract 200x200 pixel snippets\n",
    "        for x in range(0, width, 200):\n",
    "            for y in range(0, height, 200):\n",
    "                # Define the coordinates for the snippet\n",
    "                left = x\n",
    "                upper = y\n",
    "                right = x + 800\n",
    "                lower = y + 800\n",
    "\n",
    "                # Crop the snippet from the image\n",
    "                snippet = image.crop((left, upper, right, lower))\n",
    "\n",
    "                # Save the snippet to the output directory with a unique name\n",
    "                output_filename = os.path.splitext(filename)[0] + f\"_x{x}_y{y}.png\"\n",
    "                snippet.save(os.path.join(output_dir, output_filename))\n"
   ]
  },
  {
   "cell_type": "code",
   "execution_count": 20,
   "metadata": {},
   "outputs": [
    {
     "name": "stdout",
     "output_type": "stream",
     "text": [
      "Process completed!\n"
     ]
    }
   ],
   "source": [
    "# Close the original image\n",
    "image.close()\n",
    "\n",
    "print(\"Process completed!\")\n"
   ]
  }
 ],
 "metadata": {
  "kernelspec": {
   "display_name": "Python 3",
   "language": "python",
   "name": "python3"
  },
  "language_info": {
   "codemirror_mode": {
    "name": "ipython",
    "version": 3
   },
   "file_extension": ".py",
   "mimetype": "text/x-python",
   "name": "python",
   "nbconvert_exporter": "python",
   "pygments_lexer": "ipython3",
   "version": "3.11.5"
  },
  "orig_nbformat": 4
 },
 "nbformat": 4,
 "nbformat_minor": 2
}
